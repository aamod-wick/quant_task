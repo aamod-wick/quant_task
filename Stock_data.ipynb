{
 "cells": [
  {
   "cell_type": "code",
   "execution_count": 20,
   "id": "9a20c31f-0429-45e5-a502-968e665c08a8",
   "metadata": {},
   "outputs": [],
   "source": [
    "import pandas as pd\n",
    "import numpy as np\n"
   ]
  },
  {
   "cell_type": "code",
   "execution_count": 21,
   "id": "02f640de-e38a-416b-a496-c42497ab851e",
   "metadata": {},
   "outputs": [],
   "source": [
    "df = pd.read_csv('SampleDayData.csv')\n",
    "df1 = pd.read_csv('19thAprilSampleData.csv')\n",
    "df2 = pd.read_csv('22ndAprilSampleData.csv')"
   ]
  },
  {
   "cell_type": "code",
   "execution_count": 22,
   "id": "ed18adfc-f088-486e-b45c-866e9d18aced",
   "metadata": {},
   "outputs": [
    {
     "data": {
      "text/html": [
       "<div>\n",
       "<style scoped>\n",
       "    .dataframe tbody tr th:only-of-type {\n",
       "        vertical-align: middle;\n",
       "    }\n",
       "\n",
       "    .dataframe tbody tr th {\n",
       "        vertical-align: top;\n",
       "    }\n",
       "\n",
       "    .dataframe thead th {\n",
       "        text-align: right;\n",
       "    }\n",
       "</style>\n",
       "<table border=\"1\" class=\"dataframe\">\n",
       "  <thead>\n",
       "    <tr style=\"text-align: right;\">\n",
       "      <th></th>\n",
       "      <th>Volume</th>\n",
       "    </tr>\n",
       "  </thead>\n",
       "  <tbody>\n",
       "    <tr>\n",
       "      <th>count</th>\n",
       "      <td>3.900000e+01</td>\n",
       "    </tr>\n",
       "    <tr>\n",
       "      <th>mean</th>\n",
       "      <td>7.445075e+05</td>\n",
       "    </tr>\n",
       "    <tr>\n",
       "      <th>std</th>\n",
       "      <td>7.447872e+05</td>\n",
       "    </tr>\n",
       "    <tr>\n",
       "      <th>min</th>\n",
       "      <td>7.501300e+04</td>\n",
       "    </tr>\n",
       "    <tr>\n",
       "      <th>25%</th>\n",
       "      <td>3.024845e+05</td>\n",
       "    </tr>\n",
       "    <tr>\n",
       "      <th>50%</th>\n",
       "      <td>4.054970e+05</td>\n",
       "    </tr>\n",
       "    <tr>\n",
       "      <th>75%</th>\n",
       "      <td>8.007785e+05</td>\n",
       "    </tr>\n",
       "    <tr>\n",
       "      <th>max</th>\n",
       "      <td>3.422432e+06</td>\n",
       "    </tr>\n",
       "  </tbody>\n",
       "</table>\n",
       "</div>"
      ],
      "text/plain": [
       "             Volume\n",
       "count  3.900000e+01\n",
       "mean   7.445075e+05\n",
       "std    7.447872e+05\n",
       "min    7.501300e+04\n",
       "25%    3.024845e+05\n",
       "50%    4.054970e+05\n",
       "75%    8.007785e+05\n",
       "max    3.422432e+06"
      ]
     },
     "execution_count": 22,
     "metadata": {},
     "output_type": "execute_result"
    }
   ],
   "source": [
    "df.describe() #tried to see distribution of overall data"
   ]
  },
  {
   "cell_type": "code",
   "execution_count": 23,
   "id": "850368ff-3b1c-4d99-a181-37d77cb9b825",
   "metadata": {},
   "outputs": [
    {
     "data": {
      "text/html": [
       "<div>\n",
       "<style scoped>\n",
       "    .dataframe tbody tr th:only-of-type {\n",
       "        vertical-align: middle;\n",
       "    }\n",
       "\n",
       "    .dataframe tbody tr th {\n",
       "        vertical-align: top;\n",
       "    }\n",
       "\n",
       "    .dataframe thead th {\n",
       "        text-align: right;\n",
       "    }\n",
       "</style>\n",
       "<table border=\"1\" class=\"dataframe\">\n",
       "  <thead>\n",
       "    <tr style=\"text-align: right;\">\n",
       "      <th></th>\n",
       "      <th>Date</th>\n",
       "      <th>Stock Name</th>\n",
       "      <th>Volume</th>\n",
       "    </tr>\n",
       "  </thead>\n",
       "  <tbody>\n",
       "    <tr>\n",
       "      <th>0</th>\n",
       "      <td>01/03/24</td>\n",
       "      <td>ABC</td>\n",
       "      <td>330327</td>\n",
       "    </tr>\n",
       "    <tr>\n",
       "      <th>1</th>\n",
       "      <td>02/03/24</td>\n",
       "      <td>ABC</td>\n",
       "      <td>75013</td>\n",
       "    </tr>\n",
       "    <tr>\n",
       "      <th>2</th>\n",
       "      <td>04/03/24</td>\n",
       "      <td>ABC</td>\n",
       "      <td>290739</td>\n",
       "    </tr>\n",
       "    <tr>\n",
       "      <th>3</th>\n",
       "      <td>05/03/24</td>\n",
       "      <td>ABC</td>\n",
       "      <td>426920</td>\n",
       "    </tr>\n",
       "    <tr>\n",
       "      <th>4</th>\n",
       "      <td>06/03/24</td>\n",
       "      <td>ABC</td>\n",
       "      <td>548822</td>\n",
       "    </tr>\n",
       "  </tbody>\n",
       "</table>\n",
       "</div>"
      ],
      "text/plain": [
       "       Date Stock Name  Volume\n",
       "0  01/03/24        ABC  330327\n",
       "1  02/03/24        ABC   75013\n",
       "2  04/03/24        ABC  290739\n",
       "3  05/03/24        ABC  426920\n",
       "4  06/03/24        ABC  548822"
      ]
     },
     "execution_count": 23,
     "metadata": {},
     "output_type": "execute_result"
    }
   ],
   "source": [
    "df.head()\n",
    "#df1.head()\n",
    "#df2.head() #analysing data for each frame (just used comments for my rough work)"
   ]
  },
  {
   "cell_type": "code",
   "execution_count": 24,
   "id": "54125e92-024f-4624-bdd7-62e435210811",
   "metadata": {},
   "outputs": [
    {
     "data": {
      "text/plain": [
       "array(['ABC'], dtype=object)"
      ]
     },
     "execution_count": 24,
     "metadata": {},
     "output_type": "execute_result"
    }
   ],
   "source": [
    "df['Stock Name'].unique()#observed every stock name is same \"ABC\" ie one stock data"
   ]
  },
  {
   "cell_type": "code",
   "execution_count": 25,
   "id": "26e34899-65c5-4420-9000-33d8a9082f07",
   "metadata": {},
   "outputs": [
    {
     "data": {
      "text/html": [
       "<div>\n",
       "<style scoped>\n",
       "    .dataframe tbody tr th:only-of-type {\n",
       "        vertical-align: middle;\n",
       "    }\n",
       "\n",
       "    .dataframe tbody tr th {\n",
       "        vertical-align: top;\n",
       "    }\n",
       "\n",
       "    .dataframe thead th {\n",
       "        text-align: right;\n",
       "    }\n",
       "</style>\n",
       "<table border=\"1\" class=\"dataframe\">\n",
       "  <thead>\n",
       "    <tr style=\"text-align: right;\">\n",
       "      <th></th>\n",
       "      <th>Date</th>\n",
       "      <th>Stock Name</th>\n",
       "      <th>Volume</th>\n",
       "    </tr>\n",
       "  </thead>\n",
       "  <tbody>\n",
       "    <tr>\n",
       "      <th>0</th>\n",
       "      <td>01/03/24</td>\n",
       "      <td>ABC</td>\n",
       "      <td>330327</td>\n",
       "    </tr>\n",
       "    <tr>\n",
       "      <th>1</th>\n",
       "      <td>02/03/24</td>\n",
       "      <td>ABC</td>\n",
       "      <td>75013</td>\n",
       "    </tr>\n",
       "    <tr>\n",
       "      <th>2</th>\n",
       "      <td>04/03/24</td>\n",
       "      <td>ABC</td>\n",
       "      <td>290739</td>\n",
       "    </tr>\n",
       "    <tr>\n",
       "      <th>3</th>\n",
       "      <td>05/03/24</td>\n",
       "      <td>ABC</td>\n",
       "      <td>426920</td>\n",
       "    </tr>\n",
       "    <tr>\n",
       "      <th>4</th>\n",
       "      <td>06/03/24</td>\n",
       "      <td>ABC</td>\n",
       "      <td>548822</td>\n",
       "    </tr>\n",
       "  </tbody>\n",
       "</table>\n",
       "</div>"
      ],
      "text/plain": [
       "       Date Stock Name  Volume\n",
       "0  01/03/24        ABC  330327\n",
       "1  02/03/24        ABC   75013\n",
       "2  04/03/24        ABC  290739\n",
       "3  05/03/24        ABC  426920\n",
       "4  06/03/24        ABC  548822"
      ]
     },
     "execution_count": 25,
     "metadata": {},
     "output_type": "execute_result"
    }
   ],
   "source": [
    "df1['Last Traded Quantity'] = df1['Last Traded Quantity'].apply(lambda x: np.nan if x < 0 else x)\n",
    "df2['Last Traded Quantity'] = df2['Last Traded Quantity'].apply(lambda x: np.nan if x < 0 else x)\n",
    "df['Volume'] = df['Volume'].apply(lambda x: np.nan if x < 0 else x)\n",
    "df.head()#makew sure data is consistent with real life values ie negative volume cannot exist "
   ]
  },
  {
   "cell_type": "code",
   "execution_count": null,
   "id": "a9ff26ac-2bb6-49d2-8cef-2769ee379302",
   "metadata": {},
   "outputs": [],
   "source": []
  }
 ],
 "metadata": {
  "kernelspec": {
   "display_name": "Python 3 (ipykernel)",
   "language": "python",
   "name": "python3"
  },
  "language_info": {
   "codemirror_mode": {
    "name": "ipython",
    "version": 3
   },
   "file_extension": ".py",
   "mimetype": "text/x-python",
   "name": "python",
   "nbconvert_exporter": "python",
   "pygments_lexer": "ipython3",
   "version": "3.10.12"
  }
 },
 "nbformat": 4,
 "nbformat_minor": 5
}
